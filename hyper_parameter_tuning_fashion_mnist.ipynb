{
 "cells": [
  {
   "cell_type": "code",
   "execution_count": 25,
   "id": "f4f524da",
   "metadata": {},
   "outputs": [],
   "source": [
    "from tensorflow.keras.layers import  Input,Dense,Flatten,Conv2D,MaxPooling2D,Dropout,BatchNormalization,LeakyReLU\n",
    "from tensorflow.keras.models import  Sequential\n",
    "from tensorflow.keras.datasets import  fashion_mnist\n",
    "import matplotlib.pyplot as  plt\n",
    "import tensorflow as tf\n",
    "from scikeras.wrappers import KerasClassifier\n",
    "from tensorflow.keras.optimizers import SGD,Adam\n",
    "from keras_tuner.tuners import RandomSearch\n"
   ]
  },
  {
   "cell_type": "code",
   "execution_count": 26,
   "id": "218d4323",
   "metadata": {},
   "outputs": [],
   "source": [
    "# load the fashio mnist datasets\n",
    "data = fashion_mnist.load_data()"
   ]
  },
  {
   "cell_type": "code",
   "execution_count": 27,
   "id": "70857781",
   "metadata": {},
   "outputs": [],
   "source": [
    "# split the data into training and testing datasets\n",
    "(train_images, train_labels), (test_images, test_labels) = data"
   ]
  },
  {
   "cell_type": "code",
   "execution_count": 28,
   "id": "d80b4238",
   "metadata": {},
   "outputs": [],
   "source": [
    "#normalize the data\n",
    "train_images = train_images / 255.0\n",
    "test_images = test_images / 255.0\n"
   ]
  },
  {
   "cell_type": "code",
   "execution_count": 29,
   "id": "44cb9dc8",
   "metadata": {},
   "outputs": [],
   "source": [
    "def create_model(hp):\n",
    "    # define the hyperparameters\n",
    "    activation = hp.Choice('activation', ['relu', 'leaky_relu'])\n",
    "    optimizer = hp.Choice('optimizer', ['adam', 'sgd'])\n",
    "    if optimizer =='sgd':\n",
    "        learning_rate = hp.Float('learning_rate', 1e-4, 1e-2, sampling='log')\n",
    "        momentum = hp.Float('momentum', 0.0,0.5, 0.9)\n",
    "        optimizer = SGD(learning_rate=learning_rate,momentum=momentum)\n",
    "    if activation == 'leaky_relu':\n",
    "        alpha = hp.Float('alpha', 0.01, 0.2)\n",
    "        activation = LeakyReLU(alpha=alpha)\n",
    "    model = Sequential([\n",
    "        Input(shape=(28, 28, 1)),\n",
    "        Conv2D(32, (3, 3), activation=activation, padding='same',name=\"conv1\"),\n",
    "        # MaxPooling2D((2, 2)),\n",
    "        BatchNormalization(),\n",
    "        Conv2D(64, (3, 3), activation=activation, padding='same',name=\"conv2\"),\n",
    "        MaxPooling2D((2, 2)),\n",
    "        BatchNormalization(),\n",
    "        Conv2D(128, (3, 3), activation=activation, padding='same',name=\"conv3\"),\n",
    "        MaxPooling2D((2, 2)),\n",
    "        BatchNormalization(),\n",
    "        Conv2D(256, (3, 3), activation=activation, padding='same',name=\"conv4\"),\n",
    "        MaxPooling2D((2, 2)),\n",
    "        BatchNormalization(),\n",
    "        Flatten(),\n",
    "        Dense(128, activation=activation),\n",
    "        Dropout(0.5),\n",
    "        Dense(10, activation='softmax')\n",
    "    ])\n",
    "    model.compile(optimizer=optimizer,\n",
    "              loss='sparse_categorical_crossentropy',\n",
    "              metrics=['accuracy'])\n",
    "\n",
    "    return model"
   ]
  },
  {
   "cell_type": "code",
   "execution_count": 30,
   "id": "27bde4c8",
   "metadata": {},
   "outputs": [],
   "source": [
    "tuner = RandomSearch(\n",
    "    create_model,\n",
    "    objective='val_accuracy',\n",
    "    max_trials=5,\n",
    "    executions_per_trial=3,\n",
    "    directory='my_dir',\n",
    "    project_name='fashion_mnist_tuning_2',\n",
    ")"
   ]
  },
  {
   "cell_type": "code",
   "execution_count": 31,
   "id": "da9e72a0",
   "metadata": {},
   "outputs": [
    {
     "name": "stdout",
     "output_type": "stream",
     "text": [
      "Trial 5 Complete [00h 04m 40s]\n",
      "val_accuracy: 0.9159999887148539\n",
      "\n",
      "Best val_accuracy So Far: 0.9196111162503561\n",
      "Total elapsed time: 00h 27m 01s\n"
     ]
    }
   ],
   "source": [
    "tuner.search(\n",
    "    train_images,\n",
    "    train_labels,\n",
    "    epochs=5,\n",
    "    validation_split=0.2,\n",
    "    batch_size=32\n",
    ")"
   ]
  },
  {
   "cell_type": "code",
   "execution_count": 32,
   "id": "9d98aa6e",
   "metadata": {},
   "outputs": [],
   "source": [
    "best_model = tuner.get_best_models(num_models=1)[0]\n",
    "best_hyperparameters = tuner.get_best_hyperparameters()[0]"
   ]
  },
  {
   "cell_type": "code",
   "execution_count": 33,
   "id": "289d758d",
   "metadata": {},
   "outputs": [
    {
     "data": {
      "text/plain": [
       "{'activation': 'leaky_relu',\n",
       " 'optimizer': 'adam',\n",
       " 'learning_rate': 0.0005264363579822869,\n",
       " 'momentum': 0.0,\n",
       " 'alpha': 0.16929982827406403}"
      ]
     },
     "execution_count": 33,
     "metadata": {},
     "output_type": "execute_result"
    }
   ],
   "source": [
    "best_hyperparameters.values"
   ]
  },
  {
   "cell_type": "code",
   "execution_count": null,
   "id": "d6234ea9",
   "metadata": {},
   "outputs": [],
   "source": []
  }
 ],
 "metadata": {
  "kernelspec": {
   "display_name": "tf310",
   "language": "python",
   "name": "python3"
  },
  "language_info": {
   "codemirror_mode": {
    "name": "ipython",
    "version": 3
   },
   "file_extension": ".py",
   "mimetype": "text/x-python",
   "name": "python",
   "nbconvert_exporter": "python",
   "pygments_lexer": "ipython3",
   "version": "3.10.17"
  }
 },
 "nbformat": 4,
 "nbformat_minor": 5
}
